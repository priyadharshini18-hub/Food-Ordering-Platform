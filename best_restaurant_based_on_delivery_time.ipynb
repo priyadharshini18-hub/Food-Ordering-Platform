{
 "cells": [
  {
   "cell_type": "markdown",
   "metadata": {},
   "source": [
    "Top 3 Restaurants based on Delivery Time :\n",
    "\n",
    "Doordash : \n",
    "- doordash/doordash_top_3_pizza.json\n",
    "- doordash/doordash_top_3_sushi.json\n",
    "- doordash/doordash_top_3_burger.json\n",
    "\n",
    "UberEats :\n",
    "- Uber Eats/top_3_pizza.json\n",
    "- Uber Eats/top_3_sushi.json\n",
    "- Uber Eats/top_3_burgers.json\n",
    "\n",
    "GrubHub :\n",
    "- grubhub/fastest_delivery_pizza.json\n",
    "- grubhub/fastest_delivery_sushi.json\n",
    "- grubhub/fastest_delivery_burger.json"
   ]
  },
  {
   "cell_type": "code",
   "execution_count": null,
   "metadata": {
    "vscode": {
     "languageId": "plaintext"
    }
   },
   "outputs": [],
   "source": []
  }
 ],
 "metadata": {
  "language_info": {
   "name": "python"
  }
 },
 "nbformat": 4,
 "nbformat_minor": 2
}
