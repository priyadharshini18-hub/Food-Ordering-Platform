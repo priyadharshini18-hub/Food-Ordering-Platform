{
 "cells": [
  {
   "cell_type": "code",
   "execution_count": 1,
   "id": "72afb5d9-9064-4634-a21c-8301fc6d543d",
   "metadata": {},
   "outputs": [
    {
     "name": "stdout",
     "output_type": "stream",
     "text": [
      "Collecting selenium\n",
      "  Downloading selenium-4.29.0-py3-none-any.whl (9.5 MB)\n",
      "     ---------------------------------------- 9.5/9.5 MB 13.6 MB/s eta 0:00:00\n",
      "Collecting webdriver-manager\n",
      "  Downloading webdriver_manager-4.0.2-py2.py3-none-any.whl (27 kB)\n",
      "Requirement already satisfied: urllib3[socks]<3,>=1.26 in c:\\users\\91998\\appdata\\local\\programs\\python\\python311\\lib\\site-packages (from selenium) (1.26.12)\n",
      "Collecting trio~=0.17 (from selenium)\n",
      "  Downloading trio-0.29.0-py3-none-any.whl (492 kB)\n",
      "     ------------------------------------- 492.9/492.9 kB 32.2 MB/s eta 0:00:00\n",
      "Collecting trio-websocket~=0.9 (from selenium)\n",
      "  Downloading trio_websocket-0.12.2-py3-none-any.whl (21 kB)\n",
      "Requirement already satisfied: certifi>=2021.10.8 in c:\\users\\91998\\appdata\\local\\programs\\python\\python311\\lib\\site-packages (from selenium) (2022.9.24)\n",
      "Requirement already satisfied: typing_extensions~=4.9 in c:\\users\\91998\\appdata\\local\\programs\\python\\python311\\lib\\site-packages (from selenium) (4.9.0)\n",
      "Collecting websocket-client~=1.8 (from selenium)\n",
      "  Downloading websocket_client-1.8.0-py3-none-any.whl (58 kB)\n",
      "     ---------------------------------------- 58.8/58.8 kB ? eta 0:00:00\n",
      "Requirement already satisfied: requests in c:\\users\\91998\\appdata\\local\\programs\\python\\python311\\lib\\site-packages (from webdriver-manager) (2.28.1)\n",
      "Collecting python-dotenv (from webdriver-manager)\n",
      "  Downloading python_dotenv-1.0.1-py3-none-any.whl (19 kB)\n",
      "Requirement already satisfied: packaging in c:\\users\\91998\\appdata\\local\\programs\\python\\python311\\lib\\site-packages (from webdriver-manager) (21.3)\n",
      "Requirement already satisfied: attrs>=23.2.0 in c:\\users\\91998\\appdata\\local\\programs\\python\\python311\\lib\\site-packages (from trio~=0.17->selenium) (25.1.0)\n",
      "Collecting sortedcontainers (from trio~=0.17->selenium)\n",
      "  Downloading sortedcontainers-2.4.0-py2.py3-none-any.whl (29 kB)\n",
      "Requirement already satisfied: idna in c:\\users\\91998\\appdata\\local\\programs\\python\\python311\\lib\\site-packages (from trio~=0.17->selenium) (3.4)\n",
      "Collecting outcome (from trio~=0.17->selenium)\n",
      "  Downloading outcome-1.3.0.post0-py2.py3-none-any.whl (10 kB)\n",
      "Requirement already satisfied: sniffio>=1.3.0 in c:\\users\\91998\\appdata\\local\\programs\\python\\python311\\lib\\site-packages (from trio~=0.17->selenium) (1.3.0)\n",
      "Requirement already satisfied: cffi>=1.14 in c:\\users\\91998\\appdata\\local\\programs\\python\\python311\\lib\\site-packages (from trio~=0.17->selenium) (1.15.1)\n",
      "Collecting wsproto>=0.14 (from trio-websocket~=0.9->selenium)\n",
      "  Downloading wsproto-1.2.0-py3-none-any.whl (24 kB)\n",
      "Collecting PySocks!=1.5.7,<2.0,>=1.5.6 (from urllib3[socks]<3,>=1.26->selenium)\n",
      "  Downloading PySocks-1.7.1-py3-none-any.whl (16 kB)\n",
      "Requirement already satisfied: pyparsing!=3.0.5,>=2.0.2 in c:\\users\\91998\\appdata\\local\\programs\\python\\python311\\lib\\site-packages (from packaging->webdriver-manager) (3.0.9)\n",
      "Requirement already satisfied: charset-normalizer<3,>=2 in c:\\users\\91998\\appdata\\local\\programs\\python\\python311\\lib\\site-packages (from requests->webdriver-manager) (2.1.1)\n",
      "Requirement already satisfied: pycparser in c:\\users\\91998\\appdata\\local\\programs\\python\\python311\\lib\\site-packages (from cffi>=1.14->trio~=0.17->selenium) (2.21)\n",
      "Collecting h11<1,>=0.9.0 (from wsproto>=0.14->trio-websocket~=0.9->selenium)\n",
      "  Downloading h11-0.14.0-py3-none-any.whl (58 kB)\n",
      "     ---------------------------------------- 58.3/58.3 kB 3.2 MB/s eta 0:00:00\n",
      "Installing collected packages: sortedcontainers, websocket-client, python-dotenv, PySocks, outcome, h11, wsproto, webdriver-manager, trio, trio-websocket, selenium\n",
      "  Attempting uninstall: websocket-client\n",
      "    Found existing installation: websocket-client 1.4.2\n",
      "    Uninstalling websocket-client-1.4.2:\n",
      "      Successfully uninstalled websocket-client-1.4.2\n",
      "Successfully installed PySocks-1.7.1 h11-0.14.0 outcome-1.3.0.post0 python-dotenv-1.0.1 selenium-4.29.0 sortedcontainers-2.4.0 trio-0.29.0 trio-websocket-0.12.2 webdriver-manager-4.0.2 websocket-client-1.8.0 wsproto-1.2.0\n",
      "Note: you may need to restart the kernel to use updated packages.\n"
     ]
    },
    {
     "name": "stderr",
     "output_type": "stream",
     "text": [
      "\n",
      "[notice] A new release of pip is available: 23.1.2 -> 25.0.1\n",
      "[notice] To update, run: python.exe -m pip install --upgrade pip\n"
     ]
    }
   ],
   "source": [
    "pip install selenium webdriver-manager\n"
   ]
  },
  {
   "cell_type": "code",
   "execution_count": 6,
   "id": "8cdb6c0c-7475-43f0-8046-20906d34fa39",
   "metadata": {},
   "outputs": [
    {
     "name": "stdout",
     "output_type": "stream",
     "text": [
      "Number of restaurants found: 252\n",
      "Restaurant: McDonald's®, Link: https://www.ubereats.com/store/mcdonalds-4444-chiles-rd/-pfmPBk5RtihdWzdVtpJHQ\n",
      "Restaurant: Panda Express, Link: https://www.ubereats.com/store/panda-express-1491-west-covell-blvd/kcyWG5ueS4ySMlIbLYIQ8A\n",
      "Restaurant: Chipotle Mexican Grill, Link: https://www.ubereats.com/store/chipotle-mexican-grill-227-e-st/FkydvZZnSMuflYaw28z0fA\n",
      "Restaurant: Wingstop, Link: https://www.ubereats.com/store/wingstop-408-g-st/-IdVeAYCWoKKF3hrhyqSMA\n",
      "Restaurant: Taco Bell, Link: https://www.ubereats.com/store/taco-bell-425-g-street/g-MxnG4rRHGcvAHogABY6w\n",
      "Restaurant: Popeyes Louisiana Kitchen, Link: https://www.ubereats.com/store/popeyes-louisiana-kitchen-200-dorset-ct/5REYFGoUV_OTAr1l_fkJ1g\n",
      "Restaurant: KFC, Link: https://www.ubereats.com/store/kfc-1617-research-park-dr/FhFHPDj_RJ2asVKe0SUCTg\n",
      "Restaurant: Burger King, Link: https://www.ubereats.com/store/burger-king-2026-lyndell-ter/GKCeHuv6RG-YzZbgTJ68LA\n",
      "Restaurant: Little Caesars, Link: https://www.ubereats.com/store/little-caesars-1340-e-covell-blvd/B4jxqhY_WWmv4TPIrJQg6w\n",
      "Restaurant: Jack in the Box, Link: https://www.ubereats.com/store/jack-in-the-box-337-g-st/5wDOahmqTgmYvrHS9i46OA\n"
     ]
    }
   ],
   "source": [
    "from selenium import webdriver\n",
    "from selenium.webdriver.chrome.service import Service\n",
    "from selenium.webdriver.chrome.options import Options\n",
    "from selenium.webdriver.common.by import By\n",
    "from webdriver_manager.chrome import ChromeDriverManager\n",
    "import time\n",
    "\n",
    "options = Options()\n",
    "# options.add_argument(\"--headless\")  # REMOVE THIS for debugging\n",
    "options.add_argument(\"--disable-gpu\")\n",
    "options.add_argument(\"--window-size=1920x1080\")\n",
    "\n",
    "service = Service(ChromeDriverManager().install())\n",
    "driver = webdriver.Chrome(service=service, options=options)\n",
    "\n",
    "try:\n",
    "    driver.get(\"https://www.ubereats.com/\")\n",
    "    time.sleep(10)  # Increase wait time\n",
    "    \n",
    "    # Scroll to load restaurants\n",
    "    driver.execute_script(\"window.scrollTo(0, document.body.scrollHeight);\")\n",
    "    time.sleep(5)\n",
    "\n",
    "    restaurants = driver.find_elements(By.XPATH, \"//a[@data-testid='store-card']\")\n",
    "    \n",
    "    print(f\"Number of restaurants found: {len(restaurants)}\")  # Debugging line\n",
    "    \n",
    "    for restaurant in restaurants[:10]:\n",
    "        name = restaurant.find_element(By.TAG_NAME, \"h3\").text\n",
    "        link = restaurant.get_attribute(\"href\")\n",
    "        print(f\"Restaurant: {name}, Link: {link}\")\n",
    "\n",
    "finally:\n",
    "    driver.quit()"
   ]
  },
  {
   "cell_type": "code",
   "execution_count": 3,
   "id": "3ed92886-c681-4624-91ae-6e7d16e7ac34",
   "metadata": {},
   "outputs": [
    {
     "name": "stdout",
     "output_type": "stream",
     "text": [
      "\n",
      "✅ Successfully saved 148 restaurants to 'ubereats_restaurants.json'.\n"
     ]
    }
   ],
   "source": [
    "from selenium import webdriver\n",
    "from selenium.webdriver.chrome.service import Service\n",
    "from selenium.webdriver.chrome.options import Options\n",
    "from selenium.webdriver.common.by import By\n",
    "from selenium.webdriver.support.ui import WebDriverWait\n",
    "from selenium.webdriver.support import expected_conditions as EC\n",
    "from webdriver_manager.chrome import ChromeDriverManager\n",
    "import time\n",
    "import re\n",
    "import json\n",
    "\n",
 
    "options = Options()\n",
    "options.add_argument(\"--disable-gpu\")\n",
    "options.add_argument(\"--window-size=1920x1080\")\n",
    "\n",
    "service = Service(ChromeDriverManager().install())\n",
    "driver = webdriver.Chrome(service=service, options=options)\n",
    "\n",
   
    "EXCLUDED_STORES = [\n",
    "    \"7-Eleven\", \"CVS\", \"Safeway\", \"Walgreens\", \"BevMo!\", \"Grocery Outlet\",\n",
    "    \"Save Mart\", \"Sprouts\", \"Bel Air\", \"Total Wine\", \"Target\", \"Total Wines and More\",\n",
    "    \"The Home Depot\", \"Lowe's\", \"AMPM\", \"Speedway\", \"Starbucks\"\n",
    "]\n",
    "\n",
    "try:\n",
    "    driver.get(\"https://www.ubereats.com/\")\n",
    "    time.sleep(5)  # Allow initial load\n",
    "\n",
    
    "    WebDriverWait(driver, 15).until(\n",
    "        EC.presence_of_element_located((By.XPATH, \"//a[@data-testid='store-card']\"))\n",
    "    )\n",
    "\n",
    " 
    "    last_height = driver.execute_script(\"return document.body.scrollHeight\")\n",
    "    while True:\n",
    "        driver.execute_script(\"window.scrollTo(0, document.body.scrollHeight);\")\n",
    "        time.sleep(3)\n",
    "        new_height = driver.execute_script(\"return document.body.scrollHeight\")\n",
    "        if new_height == last_height:\n",
    "            break\n",
    "        last_height = new_height\n",
    "\n",
    "
    "    restaurants = driver.find_elements(By.XPATH, \"//a[@data-testid='store-card']\")\n",
    "\n",
    "    restaurant_data = []\n",
    "\n",
    "    for restaurant in restaurants:\n",
    "        try:\n",
    "            name = restaurant.find_element(By.TAG_NAME, \"h3\").text\n",
    "            link = restaurant.get_attribute(\"href\")\n",
    "\n",
    "   
    "            if any(store.lower() in name.lower() for store in EXCLUDED_STORES):\n",
    "                continue\n",
    "\n",
    "            driver.execute_script(\"window.open(arguments[0]);\", link)  # Open in new tab\n",
    "            driver.switch_to.window(driver.window_handles[1])  # Switch to new tab\n",
    "            \n",
    "            time.sleep(5)  # Allow menu to load\n",
    "\n",
    "        
    "            last_height = driver.execute_script(\"return document.body.scrollHeight\")\n",
    "            while True:\n",
    "                driver.execute_script(\"window.scrollTo(0, document.body.scrollHeight);\")\n",
    "                time.sleep(2)\n",
    "                new_height = driver.execute_script(\"return document.body.scrollHeight\")\n",
    "                if new_height == last_height:\n",
    "                    break\n",
    "                last_height = new_height\n",
    "\n",
    "
    "            all_text_elements = driver.find_elements(By.XPATH, \"//span[@data-testid='rich-text']\")\n",
    "            extracted_texts = [item.text.strip() for item in all_text_elements]\n",
    "\n",
    "          
    "            rating = \"N/A\"\n",
    "            num_reviews = \"N/A\"\n",
    "\n",
    "            if len(extracted_texts) >= 2:\n",
    "                if extracted_texts[0].replace(\".\", \"\").isdigit():\n",
    "                    rating = float(extracted_texts[0])  # Convert to float\n",
    "                if \"(\" in extracted_texts[1]:\n",
    "                    num_reviews = extracted_texts[1]\n",
    "\n",
    "
    "            categories_and_menu = []\n",
    "            location = \"N/A\"\n",
    "            delivery_fee = \"N/A\"\n",
    "            delivery_time = \"N/A\"\n",
    "\n",
    "            for text in extracted_texts[2:]:\n",
    "                text = text.strip()\n",
    "                if not text or text in ['•', '|']:\n",
    "                    continue\n",
    "\n",
    "                if \"delivery fee\" in text.lower():\n",
    "                    delivery_fee = text\n",
    "                    continue\n",
    "                if \"min\" in text.lower():\n",
    "                    delivery_time = re.findall(r'\\d+', text)\n",
    "                    delivery_time = int(delivery_time[0]) if delivery_time else \"N/A\"\n",
    "                    continue\n",
    "\n",
    "               
    "                categories_and_menu.append(text)\n",
    "\n",
    "          
    "            restaurant_data.append({\n",
    "                \"name\": name,\n",
    "                \"link\": link,\n",
    "                \"rating\": rating if isinstance(rating, float) else 0.0,\n",
    "                \"reviews\": num_reviews,\n",
    "                \"location\": location,\n",
    "                \"delivery_fee\": delivery_fee,\n",
    "                \"delivery_time\": delivery_time if isinstance(delivery_time, int) else 9999,\n",
    "                \"categories and menu\": categories_and_menu\n",
    "            })\n",
    "\n",
    "           
    "            driver.close()\n",
    "            driver.switch_to.window(driver.window_handles[0])\n",
    "\n",
    "        except Exception:\n",
    "            continue  # Skip any restaurants that cause an error\n",
    "\n",
    "   
    "    with open(\"ubereats_restaurants.json\", \"w\", encoding=\"utf-8\") as json_file:\n",
    "        json.dump(restaurant_data, json_file, indent=4, ensure_ascii=False)\n",
    "\n",
    "    print(f\"\\n✅ Successfully saved {len(restaurant_data)} restaurants to 'ubereats_restaurants.json'.\")\n",
    "\n",
    "finally:\n",
    "    driver.quit()\n"
   ]
  },
  {
   "cell_type": "code",
   "execution_count": 4,
   "id": "a99f717a-c9fa-437a-a6e8-a3be9fe13f1a",
   "metadata": {},
   "outputs": [
    {
     "name": "stdout",
     "output_type": "stream",
     "text": [
      "\n",
      "✅ Successfully saved top 3 restaurants for Pizza, Sushi, and Burgers based on rating and delivery time.\n"
     ]
    }
   ],
   "source": [
    "import json\n",
    "\n",
   
    "with open(\"ubereats_restaurants.json\", \"r\", encoding=\"utf-8\") as file:\n",
    "    restaurant_data = json.load(file)\n",
    "\n",
   \
    "dishes = [\"Pizza\", \"Sushi\", \"Burgers\"]\n",
    "\n",
  
    "def get_top_restaurants(dish, key, top_n=3):\n",
    "    filtered_restaurants = [\n",
    "        restaurant for restaurant in restaurant_data if any(dish.lower() in item.lower() for item in restaurant[\"categories and menu\"])\n",
    "    ]\n",
    "    \n",
    "   
    "    if key == \"rating\":\n",
    "        filtered_restaurants.sort(key=lambda x: x[key], reverse=True)  # Higher rating is better\n",
    "    elif key == \"delivery_time\":\n",
    "        filtered_restaurants.sort(key=lambda x: x[key])  # Lower delivery time is better\n",
    "\n",
    "    return filtered_restaurants[:top_n]\n",
    "\n",
   
    "output_data = {}\n",
    "\n",
    "for dish in dishes:\n",
    "    output_data[dish] = {\n",
    "        \"top_3_by_rating\": get_top_restaurants(dish, \"rating\"),\n",
    "        \"top_3_by_delivery_time\": get_top_restaurants(dish, \"delivery_time\")\n",
    "    }\n",
    "\n",
    "   
    "    with open(f\"top_3_{dish.lower()}.json\", \"w\", encoding=\"utf-8\") as json_file:\n",
    "        json.dump(output_data[dish], json_file, indent=4, ensure_ascii=False)\n",
    "\n",
    "print(\"\\n✅ Successfully saved top 3 restaurants for Pizza, Sushi, and Burgers based on rating and delivery time.\")\n"
   ]
  },
  {
   "cell_type": "code",
   "execution_count": 5,
   "id": "18857940-bf39-431d-b8d3-40bf304ae98f",
   "metadata": {},
   "outputs": [
    {
     "name": "stdout",
     "output_type": "stream",
     "text": [
      "\n",
      "✅ Successfully saved top 3 restaurants for Pizza, Sushi, and Burgers based on rating and delivery time.\n"
     ]
    }
   ],
   "source": [
    "import json\n",
    "\n",
 
    "with open(\"ubereats_restaurants.json\", \"r\", encoding=\"utf-8\") as file:\n",
    "    restaurant_data = json.load(file)\n",
    "\n",
   
    "dishes = [\"Pizza\", \"Sushi\", \"Burgers\"]\n",
    "\n",
    
    "def remove_duplicates(restaurants):\n",
    "    unique_restaurants = {}\n",
    "    for rest in restaurants:\n",
    "        unique_restaurants[rest[\"name\"]] = rest  # Overwrites duplicates, keeping the latest entry\n",
    "    return list(unique_restaurants.values())\n",
    "\n",
    "
    "def get_top_restaurants(dish, key, top_n=3):\n",
    "    filtered_restaurants = [\n",
    "        restaurant for restaurant in restaurant_data if any(dish.lower() in item.lower() for item in restaurant[\"categories and menu\"])\n",
    "    ]\n",
    "    \n",
    ,
    "    filtered_restaurants = remove_duplicates(filtered_restaurants)\n",
    "\n",
    "   
    "    if key == \"rating\":\n",
    "        filtered_restaurants.sort(key=lambda x: x[key], reverse=True)  # Higher rating is better\n",
    "    elif key == \"delivery_time\":\n",
    "        filtered_restaurants.sort(key=lambda x: x[key])  # Lower delivery time is better\n",
    "\n",
    "    return filtered_restaurants[:top_n]\n",
    "\n",
   
    "output_data = {}\n",
    "\n",
    "for dish in dishes:\n",
    "    output_data[dish] = {\n",
    "        \"top_3_by_rating\": get_top_restaurants(dish, \"rating\"),\n",
    "        \"top_3_by_delivery_time\": get_top_restaurants(dish, \"delivery_time\")\n",
    "    }\n",
    "\n",
    " 
    "    with open(f\"top_3_{dish.lower()}.json\", \"w\", encoding=\"utf-8\") as json_file:\n",
    "        json.dump(output_data[dish], json_file, indent=4, ensure_ascii=False)\n",
    "\n",
    "print(\"\\n✅ Successfully saved top 3 restaurants for Pizza, Sushi, and Burgers based on rating and delivery time.\")\n"
   ]
  },
  {
   "cell_type": "code",
   "execution_count": null,
   "id": "af3d3af9-8588-4dfa-97cf-80ee7d3d57e1",
   "metadata": {},
   "outputs": [],
   "source": []
  }
 ],
 "metadata": {
  "kernelspec": {
   "display_name": "Python 3 (ipykernel)",
   "language": "python",
   "name": "python3"
  },
  "language_info": {
   "codemirror_mode": {
    "name": "ipython",
    "version": 3
   },
   "file_extension": ".py",
   "mimetype": "text/x-python",
   "name": "python",
   "nbconvert_exporter": "python",
   "pygments_lexer": "ipython3",
   "version": "3.11.0"
  }
 },
 "nbformat": 4,
 "nbformat_minor": 5
}
