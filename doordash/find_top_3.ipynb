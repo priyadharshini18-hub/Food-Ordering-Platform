{
 "cells": [
  {
   "cell_type": "markdown",
   "metadata": {},
   "source": [
    "Restaurants Search Result Based ob User Input :\n",
    "\n",
    "- Pizza : /Users/priya/Downloads/UC Davis/Assignments/STA/Food-Ordering-Platform/doordash/doordash_pizza_20250307_000513.json\n",
    "\n",
    "- Sushi : /Users/priya/Downloads/UC Davis/Assignments/STA/Food-Ordering-Platform/doordash/doordash_sushi_20250305_195217.json\n",
    "\n",
    "- Burger : /Users/priya/Downloads/UC Davis/Assignments/STA/Food-Ordering-Platform/doordash/doordash_burger_20250314_134249.json\n",
    "\n",
    "\n"
   ]
  },
  {
   "cell_type": "markdown",
   "metadata": {},
   "source": [
    "Find Top 3 Restaurants Based on Ratings and Delivery Time"
   ]
  },
  {
   "cell_type": "code",
   "execution_count": 5,
   "metadata": {},
   "outputs": [],
   "source": [
    "import json\n",
    "\n",
    "def sort_by_ratings(restaurant):\n",
    "    try:\n",
    "        return float(restaurant[\"ratings\"])\n",
    "    except ValueError:\n",
    "        return 0.0\n",
    "\n",
    "def sort_by_delivery_time(restaurant):\n",
    "    try:\n",
    "        return int(restaurant[\"delivery_time\"].split()[0])\n",
    "    except ValueError:\n",
    "        return float('inf') "
   ]
  },
  {
   "cell_type": "code",
   "execution_count": 9,
   "metadata": {},
   "outputs": [
    {
     "name": "stdout",
     "output_type": "stream",
     "text": [
      "Top 3 restaurants based on ratings and delivery time saved to doordash_top_3_pizza.json\n"
     ]
    }
   ],
   "source": [
    "# Pizza \n",
    "\n",
    "input_file = \"doordash_pizza_20250306_231350.json\"\n",
    "with open(input_file, \"r\") as file:\n",
    "    data = json.load(file)\n",
    "\n",
    "top_ratings = sorted(data.values(), key=sort_by_ratings, reverse=True)[:3]\n",
    "\n",
    "top_delivery_time = sorted(data.values(), key=sort_by_delivery_time)[:3]\n",
    "\n",
    "final_output = {\n",
    "    \"top_ratings\": top_ratings,\n",
    "    \"top_delivery_time\": top_delivery_time\n",
    "}\n",
    "\n",
    "output_file = \"doordash_top_3_pizza.json\"\n",
    "with open(output_file, \"w\") as file:\n",
    "    json.dump(final_output, file, indent=4)\n",
    "\n",
    "print(f\"Top 3 restaurants based on ratings and delivery time saved to {output_file}\")\n"
   ]
  },
  {
   "cell_type": "code",
   "execution_count": 10,
   "metadata": {},
   "outputs": [
    {
     "name": "stdout",
     "output_type": "stream",
     "text": [
      "Top 3 restaurants based on ratings and delivery time saved to doordash_top_3_sushi.json\n"
     ]
    }
   ],
   "source": [
    "# Sushi \n",
    "\n",
    "input_file = \"doordash_sushi_20250305_195217.json\"\n",
    "with open(input_file, \"r\") as file:\n",
    "    data = json.load(file)\n",
    "\n",
    "top_ratings = sorted(data.values(), key=sort_by_ratings, reverse=True)[:3]\n",
    "\n",
    "top_delivery_time = sorted(data.values(), key=sort_by_delivery_time)[:3]\n",
    "\n",
    "final_output = {\n",
    "    \"top_ratings\": top_ratings,\n",
    "    \"top_delivery_time\": top_delivery_time\n",
    "}\n",
    "\n",
    "output_file = \"doordash_top_3_sushi.json\"\n",
    "with open(output_file, \"w\") as file:\n",
    "    json.dump(final_output, file, indent=4)\n",
    "\n",
    "print(f\"Top 3 restaurants based on ratings and delivery time saved to {output_file}\")\n"
   ]
  },
  {
   "cell_type": "code",
   "execution_count": 11,
   "metadata": {},
   "outputs": [
    {
     "name": "stdout",
     "output_type": "stream",
     "text": [
      "Top 3 restaurants based on ratings and delivery time saved to doordash_top_3_burger.json\n"
     ]
    }
   ],
   "source": [
    "# Burger \n",
    "\n",
    "input_file = \"doordash_burger_20250314_134249.json\"\n",
    "with open(input_file, \"r\") as file:\n",
    "    data = json.load(file)\n",
    "\n",
    "top_ratings = sorted(data.values(), key=sort_by_ratings, reverse=True)[:3]\n",
    "\n",
    "top_delivery_time = sorted(data.values(), key=sort_by_delivery_time)[:3]\n",
    "\n",
    "final_output = {\n",
    "    \"top_ratings\": top_ratings,\n",
    "    \"top_delivery_time\": top_delivery_time\n",
    "}\n",
    "\n",
    "output_file = \"doordash_top_3_burger.json\"\n",
    "with open(output_file, \"w\") as file:\n",
    "    json.dump(final_output, file, indent=4)\n",
    "\n",
    "print(f\"Top 3 restaurants based on ratings and delivery time saved to {output_file}\")\n"
   ]
  }
 ],
 "metadata": {
  "kernelspec": {
   "display_name": "Python (venv)",
   "language": "python",
   "name": "myenv"
  },
  "language_info": {
   "codemirror_mode": {
    "name": "ipython",
    "version": 3
   },
   "file_extension": ".py",
   "mimetype": "text/x-python",
   "name": "python",
   "nbconvert_exporter": "python",
   "pygments_lexer": "ipython3",
   "version": "3.9.5"
  }
 },
 "nbformat": 4,
 "nbformat_minor": 2
}
