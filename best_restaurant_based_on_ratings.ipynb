{
 "cells": [
  {
   "cell_type": "markdown",
   "metadata": {},
   "source": [
    "Top 3 Restaurants based on Ratings :\n",
    "\n",
    "Doordash : \n",
    "- doordash/doordash_top_3_pizza.json\n",
    "- doordash/doordash_top_3_sushi.json\n",
    "- doordash/doordash_top_3_burger.json\n",
    "\n",
    "UberEats :\n",
    "- Uber Eats/top_3_pizza.json\n",
    "- Uber Eats/top_3_sushi.json\n",
    "- Uber Eats/top_3_burgers.json\n",
    "\n",
    "GrubHub :\n",
    "- grubhub/top_rated_pizza.json\n",
    "- grubhub/top_rated_sushi.json\n",
    "- grubhub/top_rated_burger.json"
   ]
  },
  {
   "cell_type": "code",
   "execution_count": 63,
   "metadata": {},
   "outputs": [],
   "source": [
    "import json\n",
    "import pandas as pd\n",
    "import numpy as np"
   ]
  },
  {
   "cell_type": "code",
   "execution_count": 122,
   "metadata": {},
   "outputs": [
    {
     "name": "stdout",
     "output_type": "stream",
     "text": [
      "Data loaded successfully for burger from all sources!\n"
     ]
    }
   ],
   "source": [
    "dish = input(\"Choose from 3 dishes - pizza, burger, sushi: \").strip().lower()\n",
    "\n",
    "valid_dishes = [\"pizza\", \"burger\", \"sushi\"]\n",
    "if dish not in valid_dishes:\n",
    "    print(\"Invalid choice. Please choose from pizza, burger, or sushi.\")\n",
    "else:\n",
    "    file_path1 = f\"doordash/doordash_top_3_{dish}.json\"\n",
    "    file_path2 = f\"Uber Eats/top_3_{dish}.json\"\n",
    "    file_path3 = f\"grubhub/top_rated_{dish}.json\"\n",
    "\n",
    "    try:\n",
    "        # Doordash\n",
    "        with open(file_path1, \"r\", encoding=\"utf-8\") as file:\n",
    "            data1 = json.load(file)\n",
    "        top_ratings1 = data1.get(\"top_ratings\", [])\n",
    "        df_doordash = pd.DataFrame(top_ratings1)\n",
    "\n",
    "        # UberEats\n",
    "        with open(file_path2, \"r\", encoding=\"utf-8\") as file:\n",
    "            data2 = json.load(file)\n",
    "        top_ratings2 = data2.get(\"top_3_by_rating\", [])\n",
    "        df_ubereats = pd.DataFrame(top_ratings2)\n",
    "\n",
    "        # GrubHub\n",
    "        with open(file_path3, \"r\", encoding=\"utf-8\") as file:\n",
    "            data3 = json.load(file)\n",
    "        top_ratings3 = data3.get(\"top_5_rated_restaurants\", [])[0:3]\n",
    "        df_grubhub = pd.DataFrame(top_ratings3)\n",
    "\n",
    "        # Print confirmation\n",
    "        print(f\"Data loaded successfully for {dish} from all sources!\")\n",
    "\n",
    "    except FileNotFoundError as e:\n",
    "        print(f\"Error: {e}. Please ensure the correct files exist.\")\n"
   ]
  },
  {
   "cell_type": "code",
   "execution_count": null,
   "metadata": {},
   "outputs": [],
   "source": [
    "# file_path1 = \"doordash/doordash_top_3_pizza.json\"\n",
    "# file_path2 = \"Uber Eats/top_3_sushi.json\"\n",
    "# file_path3 = \"grubhub/top_rated_pizza.json\"\n",
    "\n",
    "# # Doordash\n",
    "# with open(file_path1, \"r\", encoding=\"utf-8\") as file:\n",
    "#     data1 = json.load(file)\n",
    "\n",
    "# top_ratings1 = data1.get(\"top_ratings\", [])\n",
    "# df_doordash = pd.DataFrame(top_ratings1)\n",
    "\n",
    "# UberEats\n",
    "# with open(file_path2, \"r\", encoding=\"utf-8\") as file:\n",
    "#     data2 = json.load(file)\n",
    "# top_ratings2 = data2.get(\"top_3_by_rating\", [])\n",
    "# df_ubereats = pd.DataFrame(top_ratings2)\n",
    "\n",
    "# # GrubHub\n",
    "# with open(file_path3, \"r\", encoding=\"utf-8\") as file:\n",
    "#     data3 = json.load(file)\n",
    "# top_ratings3 = data3.get(\"top_5_rated_restaurants\", [])[0:3]\n",
    "# df_grubhub = pd.DataFrame(top_ratings3)\n",
    "\n"
   ]
  },
  {
   "cell_type": "code",
   "execution_count": 123,
   "metadata": {},
   "outputs": [
    {
     "name": "stdout",
     "output_type": "stream",
     "text": [
      "  restaurant_id             restaurant_name        type ratings no_of_ratings  \\\n",
      "0      26273153              Outpost Burger  Restaurant     4.8          500+   \n",
      "1        802277                  Carl's Jr.  Restaurant     4.7           2k+   \n",
      "2        240272  Tommy J's Grill & Catering  Restaurant     4.7           2k+   \n",
      "\n",
      "  distance  delivery_time                                                URL  \\\n",
      "0      0.7             18  https://www.doordash.com/store/26273153?cursor...   \n",
      "1      1.2             21  https://www.doordash.com/store/802277?cursor=e...   \n",
      "2      0.9             27  https://www.doordash.com/store/240272?cursor=e...   \n",
      "\n",
      "  menu  platform  \n",
      "0   []  Doordash  \n",
      "1   []  Doordash  \n",
      "2   []  Doordash  \n"
     ]
    }
   ],
   "source": [
    "df_doordash['delivery_time'] = df_doordash['delivery_time'].str.replace(' min', '').astype(int)\n",
    "df_doordash['distance'] = df_doordash['distance'].str.replace(' mi', '', regex=False)\n",
    "df_doordash['platform'] = 'Doordash'\n",
    "\n",
    "print(df_doordash)"
   ]
  },
  {
   "cell_type": "code",
   "execution_count": 124,
   "metadata": {},
   "outputs": [
    {
     "name": "stdout",
     "output_type": "stream",
     "text": [
      "          name                                               link  rating  \\\n",
      "0   Carl's Jr.  https://www.ubereats.com/store/carls-jr-1701-c...     4.7   \n",
      "1  McDonald's®  https://www.ubereats.com/store/mcdonalds-4444-...     4.6   \n",
      "2         IHOP  https://www.ubereats.com/store/ihop-cowell-blv...     4.6   \n",
      "\n",
      "    reviews location     delivery_fee  delivery_time  \\\n",
      "0    (280+)      N/A  $0 delivery fee             10   \n",
      "1  (3,000+)      N/A  $0 delivery fee           9999   \n",
      "2    (500+)      N/A  $0 delivery fee           9999   \n",
      "\n",
      "                                 categories and menu  distance  platform  \n",
      "0  [Fast Food, Burgers, Salads, Burritos, America...       NaN  UberEats  \n",
      "1  [American, Burgers, Fast Food, $, 4444 Chiles ...       NaN  UberEats  \n",
      "2  [American, Breakfast and Brunch, burger, Comfo...       NaN  UberEats  \n"
     ]
    }
   ],
   "source": [
    "df_ubereats['distance'] = np.nan\n",
    "df_ubereats['platform'] = 'UberEats'\n",
    "print(df_ubereats)"
   ]
  },
  {
   "cell_type": "code",
   "execution_count": 125,
   "metadata": {},
   "outputs": [],
   "source": [
    "def extract_avg_time(time_estimate):\n",
    "    if isinstance(time_estimate, dict) and \"min\" in time_estimate and \"max\" in time_estimate:\n",
    "        return int(round((time_estimate[\"min\"] + time_estimate[\"max\"]) / 2))\n",
    "    return time_estimate\n",
    "\n",
    "df_grubhub[\"delivery_time\"] = df_grubhub[\"delivery_time_estimate\"].apply(extract_avg_time)\n",
    "df_grubhub['platform'] = 'GrubHub'"
   ]
  },
  {
   "cell_type": "code",
   "execution_count": 126,
   "metadata": {},
   "outputs": [
    {
     "name": "stdout",
     "output_type": "stream",
     "text": [
      "  restaurant_id         name  pickup_available  delivery_available  rating  \\\n",
      "0       3032464   Burger Den             False                True     5.0   \n",
      "1       2131972  Burger King             False                True     4.7   \n",
      "2       3323926      Chili's             False                True     4.7   \n",
      "\n",
      "   coupons_available  accepts_credit  accepts_cash distance_from_location  \\\n",
      "0              False           False         False                    9.1   \n",
      "1              False           False         False                   1.17   \n",
      "2              False           False         False                  15.43   \n",
      "\n",
      "   delivery_time_estimate                                           cuisines  \\\n",
      "0  {'min': 25, 'max': 40}                 [Hamburgers, American, Vegetarian]   \n",
      "1  {'min': 15, 'max': 30}  [Hamburgers, Fast Food, American, Dessert, San...   \n",
      "2  {'min': 40, 'max': 55}  [Hamburgers, Hamburger, Chicken, Sandwiches, S...   \n",
      "\n",
      "   delivery_time platform  \n",
      "0             32  GrubHub  \n",
      "1             22  GrubHub  \n",
      "2             48  GrubHub  \n"
     ]
    }
   ],
   "source": [
    "print(df_grubhub)"
   ]
  },
  {
   "cell_type": "code",
   "execution_count": 127,
   "metadata": {},
   "outputs": [
    {
     "name": "stdout",
     "output_type": "stream",
     "text": [
      "              restaurant_name ratings  delivery_time(min) distance(mi)  \\\n",
      "0              Outpost Burger     4.8                  18          0.7   \n",
      "1                  Carl's Jr.     4.7                  21          1.2   \n",
      "2  Tommy J's Grill & Catering     4.7                  27          0.9   \n",
      "3                  Carl's Jr.     4.7                  10          NaN   \n",
      "4                 McDonald's®     4.6                9999          NaN   \n",
      "5                        IHOP     4.6                9999          NaN   \n",
      "6                  Burger Den     5.0                  32          9.1   \n",
      "7                 Burger King     4.7                  22         1.17   \n",
      "8                     Chili's     4.7                  48        15.43   \n",
      "\n",
      "   platform  \n",
      "0  Doordash  \n",
      "1  Doordash  \n",
      "2  Doordash  \n",
      "3  UberEats  \n",
      "4  UberEats  \n",
      "5  UberEats  \n",
      "6   GrubHub  \n",
      "7   GrubHub  \n",
      "8   GrubHub  \n"
     ]
    }
   ],
   "source": [
    "df_doordash = df_doordash.rename(columns={\n",
    "    \"restaurant_name\": \"restaurant_name\",\n",
    "    \"ratings\": \"ratings\",\n",
    "    \"delivery_time\": \"delivery_time(min)\",\n",
    "    \"distance\": \"distance(mi)\"\n",
    "})\n",
    "\n",
    "df_ubereats = df_ubereats.rename(columns={\n",
    "    \"name\": \"restaurant_name\",\n",
    "    \"rating\": \"ratings\",\n",
    "    \"delivery_time\": \"delivery_time(min)\",\n",
    "    \"distance\": \"distance(mi)\"\n",
    "})\n",
    "\n",
    "df_grubhub = df_grubhub.rename(columns={\n",
    "    \"name\": \"restaurant_name\",\n",
    "    \"rating\": \"ratings\",\n",
    "    \"delivery_time\": \"delivery_time(min)\",\n",
    "    \"distance_from_location\": \"distance(mi)\"\n",
    "})\n",
    "\n",
    "df_doordash_renamed = df_doordash[[\"restaurant_name\", \"ratings\", \"delivery_time(min)\", \"distance(mi)\", \"platform\"]]\n",
    "df_ubereats_renamed = df_ubereats[[\"restaurant_name\", \"ratings\", \"delivery_time(min)\", \"distance(mi)\", \"platform\"]]\n",
    "df_grubhub_renamed = df_grubhub[[\"restaurant_name\", \"ratings\", \"delivery_time(min)\", \"distance(mi)\", \"platform\"]]\n",
    "\n",
    "combined_results = pd.concat([df_doordash_renamed, df_ubereats_renamed, df_grubhub_renamed], ignore_index=True)\n",
    "\n",
    "print(combined_results)\n"
   ]
  },
  {
   "cell_type": "code",
   "execution_count": 128,
   "metadata": {},
   "outputs": [],
   "source": [
    "combined_results['ratings'] = combined_results['ratings'].astype(float)\n",
    "\n",
    "max_rating = combined_results['ratings'].max()\n",
    "\n",
    "best_rated_restaurants = combined_results[combined_results['ratings'] == max_rating]\n",
    "\n",
    "best_rated_restaurants_sorted = best_rated_restaurants.sort_values(by=['delivery_time(min)', 'distance(mi)'], \n",
    "                                                                    ascending=[True, True])\n",
    "\n",
    "best_restaurant = best_rated_restaurants_sorted.iloc[0]"
   ]
  },
  {
   "cell_type": "code",
   "execution_count": 129,
   "metadata": {},
   "outputs": [
    {
     "name": "stdout",
     "output_type": "stream",
     "text": [
      "Best restaurant to order burger in terms of Ratings is \" Burger Den \" \n",
      "\n",
      "Platform to order from : GrubHub\n",
      "Ratings : 5.0\n",
      "Delivery Time : 32\n",
      "Distance in Miles : 9.1\n"
     ]
    }
   ],
   "source": [
    "print(\"Best restaurant to order\", dish, \"in terms of Ratings is \\\"\", best_restaurant['restaurant_name'], \"\\\" \\n\")\n",
    "print(\"Platform to order from :\", best_restaurant['platform'])\n",
    "print(\"Ratings :\", best_restaurant['ratings'])\n",
    "print(\"Delivery Time :\", best_restaurant['delivery_time(min)'])\n",
    "print(\"Distance in Miles :\", best_restaurant['distance(mi)'])"
   ]
  }
 ],
 "metadata": {
  "kernelspec": {
   "display_name": "Python (venv)",
   "language": "python",
   "name": "myenv"
  },
  "language_info": {
   "codemirror_mode": {
    "name": "ipython",
    "version": 3
   },
   "file_extension": ".py",
   "mimetype": "text/x-python",
   "name": "python",
   "nbconvert_exporter": "python",
   "pygments_lexer": "ipython3",
   "version": "3.9.5"
  }
 },
 "nbformat": 4,
 "nbformat_minor": 2
}
