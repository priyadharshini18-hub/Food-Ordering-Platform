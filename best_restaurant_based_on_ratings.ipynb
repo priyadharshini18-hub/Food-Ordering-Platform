{
 "cells": [
  {
   "cell_type": "markdown",
   "metadata": {},
   "source": [
    "Top 3 Restaurants based on Ratings :\n",
    "\n",
    "Doordash : \n",
    "- doordash/doordash_top_3_pizza.json\n",
    "- doordash/doordash_top_3_sushi.json\n",
    "\n",
    "UberEats :\n",
    "- Uber Eats/top_3_pizza.json\n",
    "- Uber Eats/top_3_sushi.json\n",
    "- Uber Eats/top_3_burgers.json\n",
    "\n",
    "GrubHub :\n",
    "- bjb"
   ]
  },
  {
   "cell_type": "code",
   "execution_count": null,
   "metadata": {
    "vscode": {
     "languageId": "plaintext"
    }
   },
   "outputs": [],
   "source": []
  }
 ],
 "metadata": {
  "language_info": {
   "name": "python"
  }
 },
 "nbformat": 4,
 "nbformat_minor": 2
}
